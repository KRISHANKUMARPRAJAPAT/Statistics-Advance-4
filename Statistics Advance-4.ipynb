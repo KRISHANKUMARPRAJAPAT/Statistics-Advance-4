{
 "cells": [
  {
   "cell_type": "markdown",
   "id": "1c9ad7e5-1afe-4e78-b322-0b6b4b6aa1d1",
   "metadata": {},
   "source": [
    "# Q1: What is the difference between a t-test and a z-test? Provide an example scenario where you would use each type of test."
   ]
  },
  {
   "cell_type": "markdown",
   "id": "92d7ea17-b101-441d-b215-f172a8c1a3fc",
   "metadata": {},
   "source": [
    "# Ans: 1 \n",
    "\n",
    "Both t-tests and z-tests are used to compare means of two groups and determine if the observed difference between the groups is statistically significant.\n",
    "\n",
    "\n",
    "**The difference between a t-test and a z-test:**\n",
    "\n",
    "- **Sample Size:** The key difference between a t-test and a z-test is the sample size. A t-test is appropriate when the sample size is relatively small (typically n < 30) or when the population standard deviation is unknown. On the other hand, a z-test is used when the sample size is large (typically n >= 30) or when the population standard deviation is known.\n",
    "\n",
    "- **Assumption:** The t-test assumes that the data is approximately normally distributed, whereas the z-test assumes that the data is normally distributed.\n",
    "\n",
    ".\n",
    "\n",
    "\n",
    "Now, let's look at an example for each test using Python:\n",
    "\n",
    "# t-test:\n",
    "\n",
    "\n",
    "Suppose we want to compare the heights of two groups of individuals: Group A and Group B. We have the heights of 10 individuals from each group, and we want to determine if there is a statistically significant difference in the average height between the two groups."
   ]
  },
  {
   "cell_type": "code",
   "execution_count": 8,
   "id": "83c6e462-0c7f-46ee-bc80-dbec7e32225e",
   "metadata": {},
   "outputs": [
    {
     "name": "stdout",
     "output_type": "stream",
     "text": [
      "t-statisti:c 6.218479840396996\n",
      "p-value: 7.226808844213945e-06\n",
      "There is a statistically significant difference in the average height between Group A and Group B.\n"
     ]
    }
   ],
   "source": [
    "import numpy as np \n",
    "from scipy.stats import ttest_ind\n",
    "\n",
    " # Heights of individuals in group A ans group B\n",
    "group_a_heights = np.array([165, 170, 168, 175, 172, 167, 169, 171, 173, 168])\n",
    "group_b_heights = np.array([160, 162, 165, 158, 163, 166, 159, 161, 164, 162])\n",
    "\n",
    "# perform independent t test \n",
    "t_stat, p_value = ttest_ind(group_a_heights, group_b_heights)\n",
    "\n",
    "# print the result \n",
    "print(\"t-statisti:c\" , t_stat)\n",
    "print(\"p-value:\" , p_value)\n",
    "\n",
    "# check the difference is statistically significant at 5% significance level\n",
    "if p_value < 0.05:\n",
    "    print(\"There is a statistically significant difference in the average height between Group A and Group B.\")\n",
    "else: \n",
    "    print(\"There is no statistically significant difference in the average height between Group A and Group B\")"
   ]
  },
  {
   "cell_type": "markdown",
   "id": "1faf22a8-3071-4c5b-99d8-6bdb74477978",
   "metadata": {},
   "source": [
    "# z-test:\n",
    "Now, suppose we have a larger sample size for each group and we know the population standard deviation. We want to compare the average test scores of two groups: Group X and Group Y."
   ]
  },
  {
   "cell_type": "code",
   "execution_count": 9,
   "id": "3cb8d0a5-4f47-4d4d-a178-f6880bcf6aa0",
   "metadata": {},
   "outputs": [
    {
     "name": "stdout",
     "output_type": "stream",
     "text": [
      "z-score: 4.695742752749559\n",
      "p-value: 2.656396824285423e-06\n",
      "There is a statistically significant difference in the average test scores between Group X and Group Y.\n"
     ]
    }
   ],
   "source": [
    "from scipy.stats import norm\n",
    "\n",
    "# test scores of individuals in group x and group y \n",
    "group_x_scores = np.array([75, 80, 85, 90, 78, 82, 88, 92, 79, 81])\n",
    "group_y_scores = np.array([70, 72, 74, 68, 73, 71, 75, 76, 72, 74])\n",
    "\n",
    "# population standard deviation of test scores(for this example)\n",
    "population_std = 5.0\n",
    "\n",
    "# calculate and sample mean and standard errors \n",
    "mean_x = np.mean(group_x_scores)\n",
    "mean_y = np.mean(group_y_scores)\n",
    "\n",
    "se_x = population_std/ np.sqrt(len(group_x_scores))\n",
    "se_y = population_std / np.sqrt(len(group_y_scores))\n",
    "\n",
    "# calculate the z-score for the difference in means\n",
    "z_score = (mean_x - mean_y ) / np.sqrt(se_x**2 + se_y**2)\n",
    "\n",
    "# calculate the p-value\n",
    "p_value = 2*(1 - norm.cdf(abs(z_score)))\n",
    "\n",
    "# print the result \n",
    "print(\"z-score:\", z_score)\n",
    "print(\"p-value:\", p_value)\n",
    "\n",
    "# # Check if the difference is statistically significant at 5% significance level\n",
    "if p_value < 0.05:\n",
    "    print(\"There is a statistically significant difference in the average test scores between Group X and Group Y.\")\n",
    "else:\n",
    "    print(\"There is no statistically significant difference in the average test scores between Group X and Group Y.\")"
   ]
  },
  {
   "cell_type": "code",
   "execution_count": null,
   "id": "35cac42d-342c-417f-a9d4-5b04ad60f3d3",
   "metadata": {},
   "outputs": [],
   "source": []
  },
  {
   "cell_type": "markdown",
   "id": "b956b1ea-9014-422b-9931-cd0f3d98542a",
   "metadata": {},
   "source": [
    "# Q2: Differentiate between one-tailed and two-tailed tests."
   ]
  },
  {
   "cell_type": "markdown",
   "id": "8cbd08bb-4610-4852-96f4-49a9c6d2d898",
   "metadata": {},
   "source": [
    "# Ans: 2 \n",
    "\n",
    "\n",
    "\n",
    "One-tailed and two-tailed tests are two types of hypothesis tests used in statistical analysis to assess the significance of an observed effect or difference. The main difference between these tests lies in the directionality of the hypothesis being tested.\n",
    "\n",
    "**One-tailed test:**\n",
    "\n",
    "In a one-tailed test, the hypothesis being tested is directional, meaning it specifies a particular direction of the effect or difference. The test is designed to determine if the observed data significantly deviates in one specific direction from the null hypothesis. The critical region is located entirely on one side of the probability distribution.\n",
    "\n",
    "- **Null hypothesis (H0):** There is no effect or difference between the groups.\n",
    "- **Alternative hypothesis (Ha):** There is a specific effect or difference in a particular direction.\n",
    "\n",
    "One-tailed tests are typically used when there is a strong prior expectation or theoretical reason to believe that the effect or difference, if it exists, will occur in a specific direction.\n",
    "\n",
    ".\n",
    "\n",
    "\n",
    "**Two-tailed test:**\n",
    "\n",
    "In a two-tailed test, the hypothesis being tested is non-directional, meaning it does not specify a particular direction of the effect or difference. The test is designed to determine if the observed data significantly deviates from the null hypothesis in any direction. The critical region is divided between both tails of the probability distribution.\n",
    "\n",
    "- **Null hypothesis (H0):** There is no effect or difference between the groups.\n",
    "- **Alternative hypothesis (Ha):** There is a significant effect or difference, but the direction is not specified.\n",
    "\n",
    "Two-tailed tests are more conservative because they consider deviations in both directions and are typically used when there is no prior expectation or theoretical reason to predict the direction of the effect or difference.\n",
    "\n"
   ]
  },
  {
   "cell_type": "code",
   "execution_count": null,
   "id": "55eafd1a-a3ae-4a98-8693-84b76af7bcd2",
   "metadata": {},
   "outputs": [],
   "source": []
  },
  {
   "cell_type": "markdown",
   "id": "fea55a74-a9a0-479a-bd4e-4a56117b4a1a",
   "metadata": {},
   "source": [
    "# Q3: Explain the concept of Type 1 and Type 2 errors in hypothesis testing. Provide an example scenario for each type of error."
   ]
  },
  {
   "cell_type": "markdown",
   "id": "c5253196-1164-4ab7-8fae-e9a9039113c1",
   "metadata": {
    "tags": []
   },
   "source": [
    "# Ans: 3 \n",
    "\n",
    "**Type 1 error (False Positive):**\n",
    "\n",
    "A Type 1 error occurs when we incorrectly reject a true null hypothesis. In other words, we conclude that there is a significant effect or difference when, in reality, there is no such effect or difference in the population. The probability of making a Type 1 error is denoted by the symbol alpha (α) and is also known as the significance level of the test.\n",
    "\n",
    "- **Example:** Let's say a company claims their new energy drink improves people's memory. They run a scientific test and find a small improvement in memory among the participants who drank the energy drink. However, in reality, the drink has no effect on memory. If the company incorrectly concludes that the drink works and starts advertising it as a memory booster, it's a Type 1 error.\n",
    "\n",
    "\n",
    "**Type 2 error (False Negative):**\n",
    "\n",
    "A Type 2 error occurs when we incorrectly fail to reject a false null hypothesis. In this case, we conclude that there is no significant effect or difference when, in fact, there is a true effect or difference in the population. The probability of making a Type 2 error is denoted by the symbol beta (β).\n",
    "\n",
    "- **Example:** Let's consider the same company testing the memory-boosting energy drink. Suppose the drink actually does improve memory, but in their experiment, they fail to detect this improvement and mistakenly conclude that it has no effect. It's a Type 2 error because they missed the true effect of the drink.\n"
   ]
  },
  {
   "cell_type": "code",
   "execution_count": null,
   "id": "b45fa19f-5c5c-46e3-a52e-f37ef1bbf80d",
   "metadata": {},
   "outputs": [],
   "source": []
  },
  {
   "cell_type": "markdown",
   "id": "9335f1bf-9b6c-46c4-b32f-47cb79c81126",
   "metadata": {},
   "source": [
    "# Q4: Explain Bayes's theorem with an example."
   ]
  },
  {
   "cell_type": "markdown",
   "id": "27948667-2b91-4e58-8a71-4204b40f59a8",
   "metadata": {},
   "source": [
    "# Ans: 4 \n",
    "\n",
    "\n",
    "\n",
    "Bayes's theorem is a fundamental concept in probability theory that allows us to update the probability of an event based on new evidence. It helps us calculate the probability of a hypothesis (or event) given the probability of related evidence and the prior probability of the hypothesis. Bayes's theorem is represented mathematically as:\n",
    "\n",
    "**P(H/E)= P(E/H).P(H) / P(E)**\n",
    "\n",
    "Where : \n",
    "\n",
    "- P(H/E) is the posterior probability of the hypothesis H given the evidence E.\n",
    "- P(E/H) is the likelihood of the evidence E given the hypothesis H.\n",
    "- P(H) is the prior probability of the hypothesis H.\n",
    "- P(E) is the probability of the evidence E.\n",
    "\n",
    "\n",
    "Let's demonstrate Bayes's theorem with a simple example in Python:\n",
    "\n",
    "**Example: Coin Toss**\n",
    "Suppose we have an unfair coin, and we want to calculate the probability of the coin being biased towards heads (H) or tails (T) based on the evidence of three consecutive tosses: H, H, T.\n",
    "\n",
    "\n",
    "Now, let's use Bayes's theorem to calculate the posterior probability of the coin being biased towards heads (H) after observing three consecutive tosses: H, H, T."
   ]
  },
  {
   "cell_type": "code",
   "execution_count": 10,
   "id": "89fe2c81-b0bd-4d62-ac4b-11af60a31bca",
   "metadata": {},
   "outputs": [
    {
     "name": "stdout",
     "output_type": "stream",
     "text": [
      "Posterior probability of the coin being biased towards heads (H): 0.4615384615384615\n",
      "Posterior probability of the coin being biased towards tails (T): 0.5384615384615383\n"
     ]
    }
   ],
   "source": [
    "# Prior probabilities\n",
    "p_h = 0.4  # Probability of the coin being biased towards heads (prior)\n",
    "p_t = 0.6  # Probability of the coin being biased towards tails (prior)\n",
    "\n",
    "# Likelihoods\n",
    "p_h_given_h = 0.9  # Probability of getting heads given the coin is biased towards heads\n",
    "p_t_given_h = 0.1  # Probability of getting tails given the coin is biased towards heads\n",
    "p_h_given_t = 0.3  # Probability of getting heads given the coin is biased towards tails\n",
    "p_t_given_t = 0.7  # Probability of getting tails given the coin is biased towards tails\n",
    "\n",
    "# Evidence (observed tosses)\n",
    "evidence = ['H', 'H', 'T']\n",
    "\n",
    "# Calculate the probability of the evidence P(E)\n",
    "p_e = (p_h * p_h_given_h * p_h_given_h * p_t_given_h) + (p_t * p_h_given_t * p_h_given_t * p_t_given_t)\n",
    "\n",
    "# Calculate the posterior probabilities P(H|E) and P(T|E)\n",
    "p_h_given_e = (p_h * p_h_given_h * p_h_given_h * p_t_given_h) / p_e\n",
    "p_t_given_e = (p_t * p_h_given_t * p_h_given_t * p_t_given_t) / p_e\n",
    "\n",
    "print(\"Posterior probability of the coin being biased towards heads (H):\", p_h_given_e)\n",
    "print(\"Posterior probability of the coin being biased towards tails (T):\", p_t_given_e)"
   ]
  },
  {
   "cell_type": "code",
   "execution_count": null,
   "id": "0fd66656-7cfd-440b-96db-562864aa929a",
   "metadata": {},
   "outputs": [],
   "source": []
  },
  {
   "cell_type": "markdown",
   "id": "535726b8-1cda-447c-918e-786aa103582a",
   "metadata": {},
   "source": [
    "# Q5: What is a confidence interval? How to calculate the confidence interval, explain with an example."
   ]
  },
  {
   "cell_type": "markdown",
   "id": "9ac8179f-8e0f-4295-9cc1-689936a354b2",
   "metadata": {},
   "source": [
    "# Ans: 5 \n",
    "\n",
    "**Confidence interval:**\n",
    "\n",
    "A confidence interval is a range of values that provides an estimate of the unknown population parameter (such as the population mean) along with a level of confidence. It is a measure of the uncertainty associated with an estimate based on a sample from the population. In other words, a confidence interval gives us a range of values within which we are reasonably confident that the true population parameter lies.\n",
    "\n",
    "The level of confidence associated with a confidence interval is expressed as a percentage, typically 90%, 95%, or 99%. For example, a 95% confidence interval means that if we were to take many random samples from the same population and compute a confidence interval from each sample, approximately 95% of those intervals would contain the true population parameter.\n",
    "\n",
    "**How to calculate the confidence interval:**\n",
    "The formula for calculating a confidence interval depends on the type of data and the distribution of the data. For large sample sizes, a common approach is to use the normal distribution, while for smaller sample sizes, the t-distribution is used.\n",
    "\n",
    "- **Example: Calculating a Confidence Interval for the Mean**\n",
    "\n",
    "Suppose we want to estimate the average height of a certain population. We take a random sample of 50 individuals from that population and measure their heights. The sample mean height is 170 cm, and the sample standard deviation is 5 cm.\n"
   ]
  },
  {
   "cell_type": "code",
   "execution_count": 11,
   "id": "653d6102-c23f-4967-884d-9300ae6596f8",
   "metadata": {},
   "outputs": [
    {
     "name": "stdout",
     "output_type": "stream",
     "text": [
      "Sample mean: 170.4\n",
      "Margin of error: 0.5741643527112024\n",
      "95% Confidence Interval: (169.83, 170.97)\n"
     ]
    }
   ],
   "source": [
    "from scipy.stats import t\n",
    "\n",
    "# Sample data (heights in centimeters)\n",
    "sample_data = np.array([165, 170, 175, 168, 172, 173, 169, 171, 168, 172,\n",
    "                        170, 167, 170, 171, 174, 172, 170, 168, 172, 169,\n",
    "                        170, 172, 170, 168, 170, 172, 170, 169, 173, 171,\n",
    "                        167, 170, 172, 169, 171, 170, 168, 173, 170, 169,\n",
    "                        171, 173, 170, 168, 174, 171, 170, 172, 169, 172])\n",
    "\n",
    "# Sample statistics\n",
    "sample_mean = np.mean(sample_data)\n",
    "sample_std = np.std(sample_data, ddof=1)  # ddof=1 for sample standard deviation\n",
    "sample_size = len(sample_data)\n",
    "\n",
    "# Confidence level (as a decimal)\n",
    "confidence_level = 0.95\n",
    "\n",
    "# Calculate the critical value for t-distribution\n",
    "# Degrees of freedom = sample_size - 1\n",
    "critical_value = t.ppf((1 + confidence_level) / 2, df=sample_size - 1)\n",
    "\n",
    "# Calculate the standard error of the mean\n",
    "standard_error = sample_std / np.sqrt(sample_size)\n",
    "\n",
    "# Calculate the margin of error\n",
    "margin_of_error = critical_value * standard_error\n",
    "\n",
    "# Calculate the confidence interval\n",
    "lower_bound = sample_mean - margin_of_error\n",
    "upper_bound = sample_mean + margin_of_error\n",
    "\n",
    "print(\"Sample mean:\", sample_mean)\n",
    "print(\"Margin of error:\", margin_of_error)\n",
    "print(\"95% Confidence Interval: ({:.2f}, {:.2f})\".format(lower_bound, upper_bound))"
   ]
  },
  {
   "cell_type": "code",
   "execution_count": null,
   "id": "1b5920b0-63d1-4c56-a836-c42ac13dea0f",
   "metadata": {},
   "outputs": [],
   "source": []
  },
  {
   "cell_type": "markdown",
   "id": "b4743ee3-98c7-4aeb-a939-700fb30b5d08",
   "metadata": {},
   "source": [
    "# Q6. Use Bayes' Theorem to calculate the probability of an event occurring given prior knowledge of the event's probability and new evidence. Provide a sample problem and solution."
   ]
  },
  {
   "cell_type": "markdown",
   "id": "fc479228-16be-4f63-bc0a-95254ab89598",
   "metadata": {},
   "source": [
    "# Ans : 6\n",
    "\n",
    "Sample Problem:\n",
    "Suppose there is a rare disease that affects 1 in 10,000 people in a certain population. We have a diagnostic test for this disease, but it is not perfect. The test has the following characteristics:\n",
    "\n",
    "The probability of a positive test result (indicating the presence of the disease) given that a person has the disease is 0.98 (P(Positive|Disease) = 0.98).\n",
    "The probability of a negative test result (indicating the absence of the disease) given that a person does not have the disease is 0.99 (P(Negative|No Disease) = 0.99).\n",
    "Now, a person from the population gets tested, and the test result is positive. We want to calculate the probability that this person actually has the disease (P(Disease|Positive)).\n",
    "\n",
    "Solution:\n",
    "Let's use Bayes' Theorem to calculate the probability of having the disease given a positive test result (P(Disease|Positive)).\n",
    "\n",
    "Bayes' Theorem is given by:\n",
    "\n",
    "  **P(Disease/Positive) = P(Positive/Disease)⋅P(Disease) / P(positive)**\n",
    "  \n",
    "  \n",
    "Where: \n",
    "- P(Disease/Positive) is the probability of having the disease given a positive test result.\n",
    "- P(Positive/Disease)  is the probability of a positive test result given that the person has the disease (0.98).\n",
    "- P(Disease) is the prior probability of having the disease (1 in 10,000 or 0.0001).\n",
    "- P(positive) is the probability of a positive test result.\n",
    "\n",
    "\n",
    "Let's calculate P(positive) and then use Bayes' Theorem to find \n",
    "P(Disease/Positive) in Python:"
   ]
  },
  {
   "cell_type": "code",
   "execution_count": 12,
   "id": "a07af418-7c8d-4169-9ac8-37d840859fb7",
   "metadata": {},
   "outputs": [
    {
     "name": "stdout",
     "output_type": "stream",
     "text": [
      "Probability of having the disease given a positive test result:\n",
      "0.009706\n"
     ]
    }
   ],
   "source": [
    "# Given data\n",
    "p_positive_given_disease = 0.98\n",
    "p_disease = 0.0001\n",
    "p_positive_given_no_disease = 1 - 0.99\n",
    "p_no_disease = 1 - p_disease\n",
    "\n",
    "# Calculate P(Positive)\n",
    "p_positive = (p_positive_given_disease * p_disease) + (p_positive_given_no_disease * p_no_disease)\n",
    "\n",
    "# Calculate P(Disease|Positive) using Bayes' Theorem\n",
    "p_disease_given_positive = (p_positive_given_disease * p_disease) / p_positive\n",
    "\n",
    "# Display the result\n",
    "print(\"Probability of having the disease given a positive test result:\")\n",
    "print(\"{:.6f}\".format(p_disease_given_positive))"
   ]
  },
  {
   "cell_type": "code",
   "execution_count": null,
   "id": "cfff569a-7a74-48f0-aa42-15ebdc4eba33",
   "metadata": {},
   "outputs": [],
   "source": []
  },
  {
   "cell_type": "markdown",
   "id": "4567ac2e-ef4a-4ef7-a294-0b259caf29b5",
   "metadata": {},
   "source": [
    "# Q7. Calculate the 95% confidence interval for a sample of data with a mean of 50 and a standard deviation of 5. Interpret the results."
   ]
  },
  {
   "cell_type": "markdown",
   "id": "cd02ad04-6eab-46bf-ac59-4a12143d98eb",
   "metadata": {},
   "source": [
    "# Ans: 7 \n",
    "\n",
    "\n",
    "To calculate the 95% confidence interval for a sample of data with a mean of 50 and a standard deviation of 5, we need to use the formula for a confidence interval for the population mean\n",
    "\n",
    "Let's calculate the 95% confidence interval using the given information (mean = 50, standard deviation = 5) and assume a sample size of 30:"
   ]
  },
  {
   "cell_type": "code",
   "execution_count": 13,
   "id": "f7ced5fc-8eec-43e7-bcc2-e88819a221ac",
   "metadata": {},
   "outputs": [
    {
     "name": "stdout",
     "output_type": "stream",
     "text": [
      "95% Confidence Interval: (48.21, 51.79)\n"
     ]
    }
   ],
   "source": [
    "import scipy.stats as st\n",
    "\n",
    "# Given data\n",
    "sample_mean = 50\n",
    "sample_std = 5\n",
    "confidence_level = 0.95\n",
    "sample_size = 30\n",
    "\n",
    "# Calculate the critical value (Z-score) for 95% confidence level\n",
    "critical_value = st.norm.ppf((1 + confidence_level) / 2)\n",
    "\n",
    "# Calculate the margin of error\n",
    "margin_of_error = critical_value * (sample_std / (sample_size ** 0.5))\n",
    "\n",
    "# Calculate the confidence interval\n",
    "lower_bound = sample_mean - margin_of_error\n",
    "upper_bound = sample_mean + margin_of_error\n",
    "\n",
    "# Display the result\n",
    "print(\"95% Confidence Interval: ({:.2f}, {:.2f})\".format(lower_bound, upper_bound))"
   ]
  },
  {
   "cell_type": "markdown",
   "id": "6e133239-9100-4c4a-a71d-6fe530cb22da",
   "metadata": {},
   "source": [
    "**Interpretation of the Results:**\n",
    "\n",
    "The 95% confidence interval for the population mean(μ) based on the sample data is (48.51, 51.49). This means that we are 95% confident that the true population mean falls within this range."
   ]
  },
  {
   "cell_type": "code",
   "execution_count": null,
   "id": "8a21ab32-6d0d-441c-952a-f48a7e73d7f2",
   "metadata": {},
   "outputs": [],
   "source": []
  },
  {
   "cell_type": "markdown",
   "id": "9cf5093e-2467-46b9-83b3-0c07a930517c",
   "metadata": {},
   "source": [
    "# Q8. What is the margin of error in a confidence interval? How does sample size affect the margin of error? Provide an example of a scenario where a larger sample size would result in a smaller margin of error."
   ]
  },
  {
   "cell_type": "markdown",
   "id": "49c72d87-af9a-48b5-870f-23b9fff5a1d4",
   "metadata": {
    "tags": []
   },
   "source": [
    "# Ans: 8 \n",
    "\n",
    "\n",
    "\n",
    "The margin of error (MOE) in a confidence interval (CI) is a measure of the uncertainty or precision associated with the estimate of a population parameter based on a sample. It indicates the range within which we expect the true population parameter to lie with a certain level of confidence.\n",
    "\n",
    "In statistical terms, when we calculate a confidence interval for a population parameter (e.g., mean, proportion), we use a sample statistic (e.g., sample mean, sample proportion) to estimate the true population parameter. The margin of error is the maximum amount by which the sample statistic is likely to differ from the true population parameter.\n",
    "\n",
    "The margin of error is directly related to the level of confidence chosen for the interval and the variability of the data in the sample. The most common level of confidence used is 95%, which means that we expect the true population parameter to lie within the calculated interval in 95 out of 100 samples.\n",
    "\n",
    "The formula for calculating the margin of error in a confidence interval is:\n",
    "\n",
    "**MOE = Z * (σ / √n)**\n",
    "\n",
    "Where:\n",
    "\n",
    "MOE = Margin of Error\n",
    "- Z = Z-score associated with the desired level of confidence (e.g., 1.96 for a 95% confidence level)\n",
    "- σ = Standard deviation of the population (unknown in most cases, so we often use the sample standard deviation as an estimate)\n",
    "- n = Sample size\n",
    "\n",
    "Now, as for how the sample size affects the margin of error, we can observe that the margin of error is inversely proportional to the square root of the sample size. In other words, as the sample size increases, the margin of error decreases.\n",
    "\n",
    "Here's an example:\n",
    "\n",
    "Let's say you want to estimate the average height of students at a particular university with a 95% confidence level and a margin of error of 2 inches. You collect two different sample sizes, one with 100 students and another with 400 students.\n",
    "\n",
    "For the sample with 100 students:\n",
    "MOE = Z * (σ / √n)\n",
    "Assuming σ (population standard deviation) is 4 inches (just for illustration purposes):\n",
    "MOE = 1.96 * (4 / √100) = 1.96 * 0.4 ≈ 0.78 inches\n",
    "\n",
    "For the sample with 400 students:\n",
    "MOE = Z * (σ / √n)\n",
    "MOE = 1.96 * (4 / √400) = 1.96 * 0.2 ≈ 0.39 inches"
   ]
  },
  {
   "cell_type": "code",
   "execution_count": null,
   "id": "76633175-3ba1-4e4d-8cd3-6c6a7e0a6739",
   "metadata": {},
   "outputs": [],
   "source": []
  },
  {
   "cell_type": "markdown",
   "id": "acdb1338-1271-4732-a725-082821c4b31d",
   "metadata": {},
   "source": [
    "# Q9. Calculate the z-score for a data point with a value of 75, a population mean of 70, and a population standard deviation of 5. Interpret the results."
   ]
  },
  {
   "cell_type": "code",
   "execution_count": 14,
   "id": "f05ca927-a4ae-4d91-bb31-f8e15ef977ea",
   "metadata": {},
   "outputs": [
    {
     "name": "stdout",
     "output_type": "stream",
     "text": [
      "The z-score for the data point is: 1.0\n"
     ]
    }
   ],
   "source": [
    "# Ans: 9\n",
    "\n",
    "\n",
    "# Given data\n",
    "data_point = 75\n",
    "population_mean = 70\n",
    "population_std_dev = 5\n",
    "\n",
    "# Calculate the z-score\n",
    "z_score = (data_point - population_mean) / population_std_dev\n",
    "\n",
    "# Display the z-score\n",
    "print(\"The z-score for the data point is:\", z_score)"
   ]
  },
  {
   "cell_type": "markdown",
   "id": "b46ad9f5-6ab0-4b1b-b779-4b483e93a4f4",
   "metadata": {},
   "source": [
    "**Now, let's interpret the results:**\n",
    "\n",
    "The calculated z-score represents the number of standard deviations the data point (75) is away from the population mean (70). In this case:\n",
    "\n",
    "Z = (75-70)/5\n",
    "\n",
    "A z-score of 1 means that the data point is 1 standard deviation above the mean. Since the population standard deviation is 5, a z-score of 1 indicates that the data point is 5 units above the population mean."
   ]
  },
  {
   "cell_type": "code",
   "execution_count": null,
   "id": "6dbb7abf-60f1-484d-9605-c4ae1231fe71",
   "metadata": {},
   "outputs": [],
   "source": []
  },
  {
   "cell_type": "markdown",
   "id": "87068437-4b3b-409b-8ab6-381dc715cc40",
   "metadata": {},
   "source": [
    "# Q10. In a study of the effectiveness of a new weight loss drug, a sample of 50 participants lost an average of 6 pounds with a standard deviation of 2.5 pounds. Conduct a hypothesis test to determine if the drug is significantly effective at a 95% confidence level using a t-test."
   ]
  },
  {
   "cell_type": "markdown",
   "id": "a4b7b435-5536-4e92-858e-07e0d2f8380f",
   "metadata": {},
   "source": [
    "# Ans: 10 \n",
    "\n",
    "**Let's define the hypotheses:**\n",
    "\n",
    "- Null Hypothesis (H0): The weight loss drug is not significantly effective, and the population mean weight loss is equal to or less than 0 pounds. (μ ≤ 0)\n",
    "\n",
    "- Alternative Hypothesis (H1): The weight loss drug is significantly effective, and the population mean weight loss is greater than 0 pounds. (μ > 0)\n",
    "\n",
    "\n",
    "We will use a one-tailed t-test because the alternative hypothesis is directional (μ > 0).\n"
   ]
  },
  {
   "cell_type": "code",
   "execution_count": 15,
   "id": "8d15db9d-50a6-49d2-a583-0737c53ea00a",
   "metadata": {},
   "outputs": [
    {
     "name": "stdout",
     "output_type": "stream",
     "text": [
      "Calculated t-statistic: 16.970562748477143\n",
      "Critical t-value: 1.6765508919142629\n"
     ]
    }
   ],
   "source": [
    "import scipy.stats as stats\n",
    "\n",
    "sample_mean = 6\n",
    "sample_std_dev = 2.5\n",
    "sample_size = 50\n",
    "population_mean_null = 0\n",
    "\n",
    "# Calculate the t-statistic\n",
    "standard_error = sample_std_dev / (sample_size ** 0.5)\n",
    "t_statistic = (sample_mean - population_mean_null) / standard_error\n",
    "\n",
    "# Degrees of freedom for a one-sample t-test\n",
    "degrees_of_freedom = sample_size - 1\n",
    "\n",
    "# Calculate the critical t-value for a one-tailed t-test at 95% confidence level\n",
    "alpha = 0.05\n",
    "critical_t_value = stats.t.ppf(1 - alpha, df=degrees_of_freedom)\n",
    "\n",
    "# Print the results\n",
    "print(\"Calculated t-statistic:\", t_statistic)\n",
    "print(\"Critical t-value:\", critical_t_value)"
   ]
  },
  {
   "cell_type": "code",
   "execution_count": null,
   "id": "7cfa7b96-226e-4fb9-9647-2ba49ac7cc6b",
   "metadata": {},
   "outputs": [],
   "source": []
  },
  {
   "cell_type": "markdown",
   "id": "a18e5a66-b6b9-4d7a-9eb9-110af2b630e8",
   "metadata": {},
   "source": [
    "# Q11. In a survey of 500 people, 65% reported being satisfied with their current job. Calculate the 95% confidence interval for the true proportion of people who are satisfied with their job."
   ]
  },
  {
   "cell_type": "markdown",
   "id": "9d7c434b-46a8-4615-a152-25d1f35cf6d0",
   "metadata": {},
   "source": [
    "# Ans: 11\n",
    "\n",
    "To calculate the 95% confidence interval for the true proportion of people who are satisfied with their job, we can use the formula for the confidence interval for a proportion."
   ]
  },
  {
   "cell_type": "code",
   "execution_count": 16,
   "id": "33b9042f-d62f-4c1c-8e7e-53c46312dd53",
   "metadata": {},
   "outputs": [
    {
     "name": "stdout",
     "output_type": "stream",
     "text": [
      "95% Confidence Interval for the proportion of people satisfied with their job:\n",
      "60.82% to 69.18%\n"
     ]
    }
   ],
   "source": [
    "import math\n",
    "\n",
    "# Given data\n",
    "sample_proportion = 0.65\n",
    "sample_size = 500\n",
    "\n",
    "# Calculate the critical z-score for a 95% confidence level\n",
    "confidence_level = 0.95\n",
    "critical_z_score = stats.norm.ppf(1 - (1 - confidence_level) / 2)\n",
    "\n",
    "# Calculate the standard error\n",
    "standard_error = math.sqrt((sample_proportion * (1 - sample_proportion)) / sample_size)\n",
    "\n",
    "# Calculate the lower and upper bounds of the confidence interval\n",
    "lower_bound = sample_proportion - critical_z_score * standard_error\n",
    "upper_bound = sample_proportion + critical_z_score * standard_error\n",
    "\n",
    "# Convert bounds to percentages\n",
    "lower_bound_percent = lower_bound * 100\n",
    "upper_bound_percent = upper_bound * 100\n",
    "\n",
    "# Print the results\n",
    "print(\"95% Confidence Interval for the proportion of people satisfied with their job:\")\n",
    "print(f\"{lower_bound_percent:.2f}% to {upper_bound_percent:.2f}%\")"
   ]
  },
  {
   "cell_type": "code",
   "execution_count": null,
   "id": "c27758c5-2fdc-4c1b-bbbf-eb2b30d22d4d",
   "metadata": {},
   "outputs": [],
   "source": []
  },
  {
   "cell_type": "markdown",
   "id": "7339b888-e930-4b6b-a3c4-e82be947108b",
   "metadata": {},
   "source": [
    "# Q12. A researcher is testing the effectiveness of two different teaching methods on student performance. Sample A has a mean score of 85 with a standard deviation of 6, while sample B has a mean score of 82 with a standard deviation of 5. Conduct a hypothesis test to determine if the two teaching methods have a significant difference in student performance using a t-test with a significance level of 0.01."
   ]
  },
  {
   "cell_type": "markdown",
   "id": "c850d634-8747-4fad-9e54-a84c9e293266",
   "metadata": {},
   "source": [
    "# Ans: 12\n",
    "\n",
    "\n",
    "To conduct a hypothesis test to determine if there is a significant difference in student performance between the two teaching methods, we can use a two-sample t-test. The null hypothesis (H0) assumes that there is no difference between the means of the two samples, while the alternative hypothesis (H1) assumes that there is a significant difference.\n",
    "\n",
    "Let's define the hypotheses:\n",
    "\n",
    "- Null Hypothesis (H0): The two teaching methods have no significant difference in student performance. \n",
    "  (μA - μB = 0)\n",
    "\n",
    "- Alternative Hypothesis (H1): The two teaching methods have a significant difference in student performance. \n",
    "   (μA - μB ≠ 0)\n",
    "\n",
    "We will use a two-tailed t-test because the alternative hypothesis is non-directional (it doesn't specify which mean is larger).\n"
   ]
  },
  {
   "cell_type": "code",
   "execution_count": 17,
   "id": "e2dbea24-7332-414f-b2b1-dbb5cc0af959",
   "metadata": {},
   "outputs": [
    {
     "name": "stdout",
     "output_type": "stream",
     "text": [
      "Calculated t-statistic: 2.0225995873897262\n",
      "Critical t-value: 2.6718226362410027\n"
     ]
    }
   ],
   "source": [
    "import scipy.stats as stats\n",
    "\n",
    "# Given data for sample A\n",
    "sample_mean_A = 85\n",
    "sample_std_dev_A = 6\n",
    "sample_size_A = 30    \n",
    "\n",
    "# Given data for sample B\n",
    "sample_mean_B = 82\n",
    "sample_std_dev_B = 5\n",
    "sample_size_B = 25\n",
    "\n",
    "# Calculate the pooled standard deviation\n",
    "pooled_std_dev = math.sqrt(((sample_std_dev_A ** 2) / sample_size_A) + ((sample_std_dev_B ** 2) / sample_size_B))\n",
    "\n",
    "# Calculate the t-statistic\n",
    "t_statistic = (sample_mean_A - sample_mean_B) / pooled_std_dev\n",
    "\n",
    "# Degrees of freedom for a two-sample t-test\n",
    "degrees_of_freedom = sample_size_A + sample_size_B - 2\n",
    "\n",
    "# Calculate the critical t-value for a two-tailed t-test at a significance level of 0.01\n",
    "alpha = 0.01\n",
    "critical_t_value = stats.t.ppf(1 - alpha / 2, df=degrees_of_freedom)\n",
    "\n",
    "# Print the results\n",
    "print(\"Calculated t-statistic:\", t_statistic)\n",
    "print(\"Critical t-value:\", critical_t_value)"
   ]
  },
  {
   "cell_type": "markdown",
   "id": "3f5f5a03-813d-4c68-a749-4abb3801ab8a",
   "metadata": {},
   "source": [
    "**let's interpret the results:**\n",
    "\n",
    "If the absolute value of the calculated t-statistic is greater than the critical t-value, we can reject the null hypothesis (H0) and conclude that there is a significant difference in student performance between the two teaching methods. Otherwise, if the calculated t-statistic falls within the range of the critical t-values, we fail to reject the null hypothesis, and we do not have sufficient evidence to claim a significant difference in performance between the two teaching methods."
   ]
  },
  {
   "cell_type": "code",
   "execution_count": null,
   "id": "dde9f04b-a6e6-4672-b878-d30a746d3d60",
   "metadata": {},
   "outputs": [],
   "source": []
  },
  {
   "cell_type": "markdown",
   "id": "75a41b2a-ccff-4cf2-9350-ec6696293d56",
   "metadata": {},
   "source": [
    "# Q13. A population has a mean of 60 and a standard deviation of 8. A sample of 50 observations has a mean of 65. Calculate the 90% confidence interval for the true population mean."
   ]
  },
  {
   "cell_type": "code",
   "execution_count": 19,
   "id": "d919e6b0-50a9-42c6-a062-9d4ada45cba0",
   "metadata": {},
   "outputs": [
    {
     "name": "stdout",
     "output_type": "stream",
     "text": [
      "90% Confidence Interval for the true population mean:\n",
      "63.14 to 66.86\n"
     ]
    }
   ],
   "source": [
    "# Ans: 13 \n",
    "\n",
    "# Given data\n",
    "sample_mean = 65\n",
    "population_mean = 60\n",
    "population_std_dev = 8\n",
    "sample_size = 50\n",
    "\n",
    "# Calculate the critical z-score for a 90% confidence level\n",
    "confidence_level = 0.90\n",
    "critical_z_score = stats.norm.ppf(1 - (1 - confidence_level) / 2)\n",
    "\n",
    "# Calculate the standard error\n",
    "standard_error = population_std_dev / (sample_size ** 0.5)\n",
    "\n",
    "# Calculate the lower and upper bounds of the confidence interval\n",
    "lower_bound = sample_mean - critical_z_score * standard_error\n",
    "upper_bound = sample_mean + critical_z_score * standard_error\n",
    "\n",
    "# Print the results\n",
    "print(\"90% Confidence Interval for the true population mean:\")\n",
    "print(f\"{lower_bound:.2f} to {upper_bound:.2f}\")"
   ]
  },
  {
   "cell_type": "code",
   "execution_count": null,
   "id": "b17c5911-4ab1-4a03-83c1-60517fb0d98e",
   "metadata": {},
   "outputs": [],
   "source": []
  },
  {
   "cell_type": "markdown",
   "id": "a65c6790-4298-44ac-9de1-6a5fbc45ffcd",
   "metadata": {},
   "source": [
    "# Q14. In a study of the effects of caffeine on reaction time, a sample of 30 participants had an average reaction time of 0.25 seconds with a standard deviation of 0.05 seconds. Conduct a hypothesis test to determine if the caffeine has a significant effect on reaction time at a 90% confidence level using a t-test."
   ]
  },
  {
   "cell_type": "markdown",
   "id": "adc28520-5b74-4937-92ea-8cf8eb2bb784",
   "metadata": {},
   "source": [
    "# Ans: 14\n",
    "\n",
    "\n",
    "To conduct a hypothesis test to determine if caffeine has a significant effect on reaction time, we can use a one-sample t-test. The null hypothesis (H0) assumes that caffeine has no significant effect on reaction time, while the alternative hypothesis (H1) assumes that caffeine does have a significant effect.\n",
    "\n",
    "Let's define the hypotheses:\n",
    "\n",
    "- Null Hypothesis (H0): Caffeine has no significant effect on reaction time. (μ = 0)\n",
    "\n",
    "- Alternative Hypothesis (H1): Caffeine does have a significant effect on reaction time. (μ ≠ 0)\n",
    "\n",
    "We will use a two-tailed t-test because the alternative hypothesis is non-directional \n"
   ]
  },
  {
   "cell_type": "code",
   "execution_count": 20,
   "id": "41717e5e-9b9e-4b72-a3ce-81f042f13352",
   "metadata": {},
   "outputs": [
    {
     "name": "stdout",
     "output_type": "stream",
     "text": [
      "Calculated t-statistic: 27.386127875258307\n",
      "Critical t-value: 1.6991270265334972\n"
     ]
    }
   ],
   "source": [
    "# Given data\n",
    "sample_mean = 0.25\n",
    "population_mean_null = 0\n",
    "sample_std_dev = 0.05\n",
    "sample_size = 30\n",
    "\n",
    "# Calculate the standard error\n",
    "standard_error = sample_std_dev / (sample_size ** 0.5)\n",
    "\n",
    "# Calculate the t-statistic\n",
    "t_statistic = (sample_mean - population_mean_null) / standard_error\n",
    "\n",
    "# Degrees of freedom for a one-sample t-test\n",
    "degrees_of_freedom = sample_size - 1\n",
    "\n",
    "# Calculate the critical t-value for a two-tailed t-test at a 90% confidence level\n",
    "confidence_level = 0.90\n",
    "critical_t_value = stats.t.ppf(1 - (1 - confidence_level) / 2, df=degrees_of_freedom)\n",
    "\n",
    "# Print the results\n",
    "print(\"Calculated t-statistic:\", t_statistic)\n",
    "print(\"Critical t-value:\", critical_t_value)"
   ]
  },
  {
   "cell_type": "markdown",
   "id": "b1633bc2-ef88-477c-b2bf-5c95696a3347",
   "metadata": {},
   "source": [
    "**let's interpret the results:**\n",
    "\n",
    "If the absolute value of the calculated t-statistic is greater than the critical t-value, we can reject the null hypothesis (H0) and conclude that caffeine has a significant effect on reaction time at the 90% confidence level. Otherwise, if the calculated t-statistic falls within the range of the critical t-values, we fail to reject the null hypothesis, and we do not have sufficient evidence to claim a significant effect of caffeine on reaction time."
   ]
  },
  {
   "cell_type": "code",
   "execution_count": null,
   "id": "61c1e64b-d07d-4752-b679-398bedbc40b4",
   "metadata": {},
   "outputs": [],
   "source": []
  },
  {
   "cell_type": "code",
   "execution_count": null,
   "id": "6d053b08-0b0d-45b4-aad6-363023fc8c92",
   "metadata": {},
   "outputs": [],
   "source": []
  }
 ],
 "metadata": {
  "kernelspec": {
   "display_name": "Python 3 (ipykernel)",
   "language": "python",
   "name": "python3"
  },
  "language_info": {
   "codemirror_mode": {
    "name": "ipython",
    "version": 3
   },
   "file_extension": ".py",
   "mimetype": "text/x-python",
   "name": "python",
   "nbconvert_exporter": "python",
   "pygments_lexer": "ipython3",
   "version": "3.10.8"
  }
 },
 "nbformat": 4,
 "nbformat_minor": 5
}
